{
  "cells": [
    {
      "cell_type": "code",
      "source": [
        "# Install gcsfuse\n",
        "!echo \"deb http://packages.cloud.google.com/apt gcsfuse-bionic main\" > /etc/apt/sources.list.d/gcsfuse.list\n",
        "!curl https://packages.cloud.google.com/apt/doc/apt-key.gpg | apt-key add -\n",
        "!apt -qq update\n",
        "!apt -qq install gcsfuse\n",
        "\n",
        "# Authenticate with Google Cloud\n",
        "from google.colab import auth\n",
        "auth.authenticate_user()\n",
        "\n",
        "# Create the mount directory\n",
        "!mkdir -p /content/drive\n",
        "\n",
        "# Mount the GCS bucket\n",
        "bucket_name = \"stuff_dump\"\n",
        "!gcsfuse --implicit-dirs {bucket_name} /content/drive"
      ],
      "metadata": {
        "id": "XcTvfllpCmCr",
        "outputId": "4e218346-1f54-4949-ae7e-79420c293d53",
        "colab": {
          "base_uri": "https://localhost:8080/"
        }
      },
      "execution_count": 3,
      "outputs": [
        {
          "output_type": "stream",
          "name": "stdout",
          "text": [
            "\r0% [Working]\r            \rHit:1 https://cloud.r-project.org/bin/linux/ubuntu jammy-cran40/ InRelease\n",
            "\r0% [Connecting to archive.ubuntu.com (185.125.190.82)] [Connecting to security.ubuntu.com (185.125.1\r                                                                                                    \rGet:2 http://packages.cloud.google.com/apt gcsfuse-jammy InRelease [1,227 B]\n",
            "Hit:3 https://developer.download.nvidia.com/compute/cuda/repos/ubuntu2204/x86_64  InRelease\n",
            "Err:2 http://packages.cloud.google.com/apt gcsfuse-jammy InRelease\n",
            "  The following signatures couldn't be verified because the public key is not available: NO_PUBKEY C0BA5CE6DC6315A3\n",
            "Hit:4 http://archive.ubuntu.com/ubuntu jammy InRelease\n",
            "Hit:5 http://security.ubuntu.com/ubuntu jammy-security InRelease\n",
            "Hit:6 http://archive.ubuntu.com/ubuntu jammy-updates InRelease\n",
            "Hit:7 http://archive.ubuntu.com/ubuntu jammy-backports InRelease\n",
            "Hit:8 https://ppa.launchpadcontent.net/deadsnakes/ppa/ubuntu jammy InRelease\n",
            "Hit:9 https://r2u.stat.illinois.edu/ubuntu jammy InRelease\n",
            "Hit:10 https://ppa.launchpadcontent.net/graphics-drivers/ppa/ubuntu jammy InRelease\n",
            "Hit:11 https://ppa.launchpadcontent.net/ubuntugis/ppa/ubuntu jammy InRelease\n",
            "Reading package lists... Done\n",
            "W: GPG error: http://packages.cloud.google.com/apt gcsfuse-jammy InRelease: The following signatures couldn't be verified because the public key is not available: NO_PUBKEY C0BA5CE6DC6315A3\n",
            "E: The repository 'http://packages.cloud.google.com/apt gcsfuse-jammy InRelease' is not signed.\n",
            "N: Updating from such a repository can't be done securely, and is therefore disabled by default.\n",
            "N: See apt-secure(8) manpage for repository creation and user configuration details.\n",
            "W: Skipping acquire of configured file 'main/source/Sources' as repository 'https://r2u.stat.illinois.edu/ubuntu jammy InRelease' does not seem to provide it (sources.list entry misspelt?)\n",
            "Reading package lists... Done\n",
            "Building dependency tree... Done\n",
            "Reading state information... Done\n",
            "E: Unable to locate package gcsfuse\n",
            "/bin/bash: line 1: gcsfuse: command not found\n"
          ]
        }
      ]
    },
    {
      "cell_type": "code",
      "execution_count": null,
      "metadata": {
        "id": "whoxg9A87Zl7"
      },
      "outputs": [],
      "source": [
        "%cd /content\n",
        "\n",
        "import IPython.display\n",
        "from IPython.core.display import display, HTML\n",
        "import os\n",
        "import sys\n",
        "import random\n",
        "import string\n",
        "import urllib.parse\n",
        "import subprocess\n",
        "import threading\n",
        "import time\n",
        "import re\n",
        "import socket\n",
        "\n",
        "if not os.path.exists(\"/content/sd-inference-server\"):\n",
        "    !git clone https://github.com/arenasys/sd-inference-server.git\n",
        "    %cd /content/sd-inference-server\n",
        "    !git clone https://github.com/arenasys/sd-scripts.git training\n",
        "\n",
        "%cd /content/sd-inference-server\n",
        "!git pull\n",
        "\n",
        "model_folder = \"/content/sd-inference-server/models\"\n",
        "try:\n",
        "    # decline the popup to use the local folder ^\n",
        "    from google.colab import drive\n",
        "    drive.mount('/content/drive', force_remount=True)\n",
        "    model_folder = \"/content/drive/My Drive/qDiffusion/models\"\n",
        "    if not os.path.exists(model_folder):\n",
        "        !mkdir '/content/drive/My Drive/qDiffusion' -p\n",
        "        !cp -r 'models/' '/content/drive/My Drive/qDiffusion/'\n",
        "except Exception as e:\n",
        "    pass\n",
        "\n",
        "if not os.path.exists(\"venv\"):\n",
        "    !mkdir venv\n",
        "    !pip uninstall -q -y tensorflow\n",
        "    !pip install -q diffusers==0.27.2 k_diffusion==0.0.15 spandrel==0.1.8 lark==1.1.5 transformers==4.36.2 websockets==11.0.3 bson==0.5.10 mega.py==1.0.8 pytorch-lightning==2.0.2 timm==0.9.2 tomesd==0.1.3 pycloudflared==0.2.0 segment-anything==1.0 geffnet==1.0.2 toml==0.10.2 voluptuous==0.13.1 accelerate==0.27.2 lycoris-lora==2.3.0.dev4 ultralytics==8.2.3 huggingface_hub==0.25.1\n",
        "    IPython.display.clear_output()\n",
        "\n",
        "    !apt -y update -qq\n",
        "    !wget https://github.com/camenduru/gperftools/releases/download/v1.0/libtcmalloc_minimal.so.4 -O /content/libtcmalloc_minimal.so.4\n",
        "    %env LD_PRELOAD=/content/libtcmalloc_minimal.so.4\n",
        "    IPython.display.clear_output()\n",
        "\n",
        "    !wget https://github.com/cloudflare/cloudflared/releases/latest/download/cloudflared-linux-amd64 -O cloudflared\n",
        "    !chmod +x cloudflared\n",
        "    IPython.display.clear_output()\n",
        "\n",
        "if not sys.path[0] == \"/content/sd-inference-server/\":\n",
        "    sys.path.insert(0, \"/content/sd-inference-server/\")\n",
        "\n",
        "IPython.display.clear_output()\n",
        "print(\"STARTING...\")\n",
        "password = ''.join(random.SystemRandom().choice(string.ascii_letters + string.digits) for _ in range(8))\n",
        "stopping = False\n",
        "\n",
        "def tunnel_thread():\n",
        "    while True:\n",
        "        time.sleep(0.1)\n",
        "        sock = socket.socket(socket.AF_INET, socket.SOCK_STREAM)\n",
        "        result = sock.connect_ex(('127.0.0.1', 28888))\n",
        "        if result == 0:\n",
        "            break\n",
        "        sock.close()\n",
        "    time.sleep(1)\n",
        "\n",
        "    url_pattern = re.compile(r\"(?P<url>https?://\\S+\\.trycloudflare\\.com)\")\n",
        "    p = subprocess.Popen([\"./cloudflared\", \"tunnel\", \"--url\", \"http://127.0.0.1:28888\"], stdout=subprocess.DEVNULL, stderr=subprocess.PIPE, encoding=\"utf-8\")\n",
        "    for line in p.stderr:\n",
        "        url_match = url_pattern.search(line)\n",
        "        if url_match:\n",
        "            tunnel_url = url_match.group(\"url\")\n",
        "            endpoint = tunnel_url.replace(\"https\", \"wss\").strip()\n",
        "            params = urllib.parse.urlencode({'endpoint': endpoint, \"password\": password})\n",
        "            print(\"ENDPOINT:\", endpoint)\n",
        "            display(HTML(f'<pre>DESKTOP: <a href=\"{\"qdiffusion:?\" + params}\">{\"qdiffusion:?\" + params}</a></pre>'))\n",
        "            print(\"WEB:\", \"https://arenasys.github.io/?\" + params)\n",
        "            print(\"READY!\")\n",
        "            break\n",
        "    while not stopping:\n",
        "        time.sleep(0.1)\n",
        "    print(\"DIE\")\n",
        "    p.kill()\n",
        "\n",
        "print(\"PASSWORD:\", password)\n",
        "threading.Thread(target=tunnel_thread, daemon=True).start()\n",
        "!python remote.py --models \"$model_folder\" --password \"$password\"\n",
        "stopping = True"
      ]
    },
    {
      "cell_type": "code",
      "source": [],
      "metadata": {
        "id": "980PsdTvAg0g"
      },
      "execution_count": null,
      "outputs": []
    }
  ],
  "metadata": {
    "accelerator": "GPU",
    "colab": {
      "provenance": []
    },
    "gpuClass": "standard",
    "kernelspec": {
      "display_name": "Python 3",
      "language": "python",
      "name": "python3"
    },
    "language_info": {
      "name": "python",
      "version": "3.10.9"
    },
    "vscode": {
      "interpreter": {
        "hash": "e7370f93d1d0cde622a1f8e1c04877d8463912d04d973331ad4851f04de6915a"
      }
    }
  },
  "nbformat": 4,
  "nbformat_minor": 0
}